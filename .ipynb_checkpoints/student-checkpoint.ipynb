{
 "cells": [
  {
   "cell_type": "markdown",
   "metadata": {
    "heading_collapsed": true
   },
   "source": [
    "## Final Project Submission\n",
    "\n",
    "Please fill out:\n",
    "* Student name: Neha Patel\n",
    "* Student pace: part time\n",
    "* Scheduled project review date/time: 10/10/2020, 2:30 pm CST\n",
    "* Instructor name: James Irving\n",
    "* Blog post URL:\n"
   ]
  },
  {
   "cell_type": "code",
   "execution_count": null,
   "metadata": {
    "hidden": true
   },
   "outputs": [],
   "source": [
    "# Your code here - remember to use markdown cells for comments as well!"
   ]
  },
  {
   "cell_type": "markdown",
   "metadata": {
    "heading_collapsed": true
   },
   "source": [
    "## Business Case"
   ]
  },
  {
   "cell_type": "markdown",
   "metadata": {
    "heading_collapsed": true
   },
   "source": [
    "## Methodology"
   ]
  },
  {
   "cell_type": "markdown",
   "metadata": {},
   "source": [
    "## Exploring Data"
   ]
  },
  {
   "cell_type": "code",
   "execution_count": 1,
   "metadata": {},
   "outputs": [],
   "source": [
    "# Importing all necessary libraries\n",
    "import pandas as pd"
   ]
  },
  {
   "cell_type": "code",
   "execution_count": 3,
   "metadata": {},
   "outputs": [
    {
     "data": {
      "text/html": [
       "<div>\n",
       "<style scoped>\n",
       "    .dataframe tbody tr th:only-of-type {\n",
       "        vertical-align: middle;\n",
       "    }\n",
       "\n",
       "    .dataframe tbody tr th {\n",
       "        vertical-align: top;\n",
       "    }\n",
       "\n",
       "    .dataframe thead th {\n",
       "        text-align: right;\n",
       "    }\n",
       "</style>\n",
       "<table border=\"1\" class=\"dataframe\">\n",
       "  <thead>\n",
       "    <tr style=\"text-align: right;\">\n",
       "      <th></th>\n",
       "      <th>Facies</th>\n",
       "      <th>Formation</th>\n",
       "      <th>Well Name</th>\n",
       "      <th>Depth</th>\n",
       "      <th>GR</th>\n",
       "      <th>ILD_log10</th>\n",
       "      <th>DeltaPHI</th>\n",
       "      <th>PHIND</th>\n",
       "      <th>PE</th>\n",
       "      <th>NM_M</th>\n",
       "      <th>RELPOS</th>\n",
       "    </tr>\n",
       "  </thead>\n",
       "  <tbody>\n",
       "    <tr>\n",
       "      <td>0</td>\n",
       "      <td>3</td>\n",
       "      <td>A1 SH</td>\n",
       "      <td>SHRIMPLIN</td>\n",
       "      <td>2793.0</td>\n",
       "      <td>77.45</td>\n",
       "      <td>0.664</td>\n",
       "      <td>9.9</td>\n",
       "      <td>11.915</td>\n",
       "      <td>4.6</td>\n",
       "      <td>1</td>\n",
       "      <td>1.000</td>\n",
       "    </tr>\n",
       "    <tr>\n",
       "      <td>1</td>\n",
       "      <td>3</td>\n",
       "      <td>A1 SH</td>\n",
       "      <td>SHRIMPLIN</td>\n",
       "      <td>2793.5</td>\n",
       "      <td>78.26</td>\n",
       "      <td>0.661</td>\n",
       "      <td>14.2</td>\n",
       "      <td>12.565</td>\n",
       "      <td>4.1</td>\n",
       "      <td>1</td>\n",
       "      <td>0.979</td>\n",
       "    </tr>\n",
       "    <tr>\n",
       "      <td>2</td>\n",
       "      <td>3</td>\n",
       "      <td>A1 SH</td>\n",
       "      <td>SHRIMPLIN</td>\n",
       "      <td>2794.0</td>\n",
       "      <td>79.05</td>\n",
       "      <td>0.658</td>\n",
       "      <td>14.8</td>\n",
       "      <td>13.050</td>\n",
       "      <td>3.6</td>\n",
       "      <td>1</td>\n",
       "      <td>0.957</td>\n",
       "    </tr>\n",
       "    <tr>\n",
       "      <td>3</td>\n",
       "      <td>3</td>\n",
       "      <td>A1 SH</td>\n",
       "      <td>SHRIMPLIN</td>\n",
       "      <td>2794.5</td>\n",
       "      <td>86.10</td>\n",
       "      <td>0.655</td>\n",
       "      <td>13.9</td>\n",
       "      <td>13.115</td>\n",
       "      <td>3.5</td>\n",
       "      <td>1</td>\n",
       "      <td>0.936</td>\n",
       "    </tr>\n",
       "    <tr>\n",
       "      <td>4</td>\n",
       "      <td>3</td>\n",
       "      <td>A1 SH</td>\n",
       "      <td>SHRIMPLIN</td>\n",
       "      <td>2795.0</td>\n",
       "      <td>74.58</td>\n",
       "      <td>0.647</td>\n",
       "      <td>13.5</td>\n",
       "      <td>13.300</td>\n",
       "      <td>3.4</td>\n",
       "      <td>1</td>\n",
       "      <td>0.915</td>\n",
       "    </tr>\n",
       "  </tbody>\n",
       "</table>\n",
       "</div>"
      ],
      "text/plain": [
       "   Facies Formation  Well Name   Depth     GR  ILD_log10  DeltaPHI   PHIND  \\\n",
       "0       3     A1 SH  SHRIMPLIN  2793.0  77.45      0.664       9.9  11.915   \n",
       "1       3     A1 SH  SHRIMPLIN  2793.5  78.26      0.661      14.2  12.565   \n",
       "2       3     A1 SH  SHRIMPLIN  2794.0  79.05      0.658      14.8  13.050   \n",
       "3       3     A1 SH  SHRIMPLIN  2794.5  86.10      0.655      13.9  13.115   \n",
       "4       3     A1 SH  SHRIMPLIN  2795.0  74.58      0.647      13.5  13.300   \n",
       "\n",
       "    PE  NM_M  RELPOS  \n",
       "0  4.6     1   1.000  \n",
       "1  4.1     1   0.979  \n",
       "2  3.6     1   0.957  \n",
       "3  3.5     1   0.936  \n",
       "4  3.4     1   0.915  "
      ]
     },
     "execution_count": 3,
     "metadata": {},
     "output_type": "execute_result"
    }
   ],
   "source": [
    "#Loading the dataset\n",
    "df = pd.read_csv('training_data.csv')\n",
    "df.head()"
   ]
  },
  {
   "cell_type": "code",
   "execution_count": 4,
   "metadata": {},
   "outputs": [],
   "source": [
    "#Exploring the data"
   ]
  },
  {
   "cell_type": "code",
   "execution_count": 5,
   "metadata": {},
   "outputs": [
    {
     "name": "stdout",
     "output_type": "stream",
     "text": [
      "<class 'pandas.core.frame.DataFrame'>\n",
      "RangeIndex: 3232 entries, 0 to 3231\n",
      "Data columns (total 11 columns):\n",
      "Facies       3232 non-null int64\n",
      "Formation    3232 non-null object\n",
      "Well Name    3232 non-null object\n",
      "Depth        3232 non-null float64\n",
      "GR           3232 non-null float64\n",
      "ILD_log10    3232 non-null float64\n",
      "DeltaPHI     3232 non-null float64\n",
      "PHIND        3232 non-null float64\n",
      "PE           3232 non-null float64\n",
      "NM_M         3232 non-null int64\n",
      "RELPOS       3232 non-null float64\n",
      "dtypes: float64(7), int64(2), object(2)\n",
      "memory usage: 277.9+ KB\n"
     ]
    }
   ],
   "source": [
    "df.info()"
   ]
  },
  {
   "cell_type": "markdown",
   "metadata": {
    "heading_collapsed": true
   },
   "source": [
    "### Nulls\n",
    "It looks like there are no null values in the dataset. Although, just to be extra sure, we use `df.isna().sum()`"
   ]
  },
  {
   "cell_type": "code",
   "execution_count": 6,
   "metadata": {
    "hidden": true
   },
   "outputs": [
    {
     "data": {
      "text/plain": [
       "Facies       0\n",
       "Formation    0\n",
       "Well Name    0\n",
       "Depth        0\n",
       "GR           0\n",
       "ILD_log10    0\n",
       "DeltaPHI     0\n",
       "PHIND        0\n",
       "PE           0\n",
       "NM_M         0\n",
       "RELPOS       0\n",
       "dtype: int64"
      ]
     },
     "execution_count": 6,
     "metadata": {},
     "output_type": "execute_result"
    }
   ],
   "source": [
    "df.isna().sum()"
   ]
  },
  {
   "cell_type": "markdown",
   "metadata": {
    "heading_collapsed": true
   },
   "source": [
    "### Duplicates"
   ]
  },
  {
   "cell_type": "code",
   "execution_count": 10,
   "metadata": {
    "hidden": true
   },
   "outputs": [
    {
     "data": {
      "text/html": [
       "<div>\n",
       "<style scoped>\n",
       "    .dataframe tbody tr th:only-of-type {\n",
       "        vertical-align: middle;\n",
       "    }\n",
       "\n",
       "    .dataframe tbody tr th {\n",
       "        vertical-align: top;\n",
       "    }\n",
       "\n",
       "    .dataframe thead th {\n",
       "        text-align: right;\n",
       "    }\n",
       "</style>\n",
       "<table border=\"1\" class=\"dataframe\">\n",
       "  <thead>\n",
       "    <tr style=\"text-align: right;\">\n",
       "      <th></th>\n",
       "      <th>Facies</th>\n",
       "      <th>Formation</th>\n",
       "      <th>Well Name</th>\n",
       "      <th>Depth</th>\n",
       "      <th>GR</th>\n",
       "      <th>ILD_log10</th>\n",
       "      <th>DeltaPHI</th>\n",
       "      <th>PHIND</th>\n",
       "      <th>PE</th>\n",
       "      <th>NM_M</th>\n",
       "      <th>RELPOS</th>\n",
       "    </tr>\n",
       "  </thead>\n",
       "  <tbody>\n",
       "    <tr>\n",
       "      <td>302</td>\n",
       "      <td>8</td>\n",
       "      <td>B5 LM</td>\n",
       "      <td>SHRIMPLIN</td>\n",
       "      <td>2944.0</td>\n",
       "      <td>234.8</td>\n",
       "      <td>0.515</td>\n",
       "      <td>4.7</td>\n",
       "      <td>11.41</td>\n",
       "      <td>4.8</td>\n",
       "      <td>2</td>\n",
       "      <td>0.4</td>\n",
       "    </tr>\n",
       "  </tbody>\n",
       "</table>\n",
       "</div>"
      ],
      "text/plain": [
       "     Facies Formation  Well Name   Depth     GR  ILD_log10  DeltaPHI  PHIND  \\\n",
       "302       8     B5 LM  SHRIMPLIN  2944.0  234.8      0.515       4.7  11.41   \n",
       "\n",
       "      PE  NM_M  RELPOS  \n",
       "302  4.8     2     0.4  "
      ]
     },
     "execution_count": 10,
     "metadata": {},
     "output_type": "execute_result"
    }
   ],
   "source": [
    "df[df.duplicated()]"
   ]
  },
  {
   "cell_type": "code",
   "execution_count": 11,
   "metadata": {
    "hidden": true,
    "scrolled": true
   },
   "outputs": [
    {
     "data": {
      "text/html": [
       "<div>\n",
       "<style scoped>\n",
       "    .dataframe tbody tr th:only-of-type {\n",
       "        vertical-align: middle;\n",
       "    }\n",
       "\n",
       "    .dataframe tbody tr th {\n",
       "        vertical-align: top;\n",
       "    }\n",
       "\n",
       "    .dataframe thead th {\n",
       "        text-align: right;\n",
       "    }\n",
       "</style>\n",
       "<table border=\"1\" class=\"dataframe\">\n",
       "  <thead>\n",
       "    <tr style=\"text-align: right;\">\n",
       "      <th></th>\n",
       "      <th>Facies</th>\n",
       "      <th>Formation</th>\n",
       "      <th>Well Name</th>\n",
       "      <th>Depth</th>\n",
       "      <th>GR</th>\n",
       "      <th>ILD_log10</th>\n",
       "      <th>DeltaPHI</th>\n",
       "      <th>PHIND</th>\n",
       "      <th>PE</th>\n",
       "      <th>NM_M</th>\n",
       "      <th>RELPOS</th>\n",
       "    </tr>\n",
       "  </thead>\n",
       "  <tbody>\n",
       "    <tr>\n",
       "      <td>301</td>\n",
       "      <td>8</td>\n",
       "      <td>B5 LM</td>\n",
       "      <td>SHRIMPLIN</td>\n",
       "      <td>2944.0</td>\n",
       "      <td>234.8</td>\n",
       "      <td>0.515</td>\n",
       "      <td>4.7</td>\n",
       "      <td>11.41</td>\n",
       "      <td>4.8</td>\n",
       "      <td>2</td>\n",
       "      <td>0.4</td>\n",
       "    </tr>\n",
       "    <tr>\n",
       "      <td>302</td>\n",
       "      <td>8</td>\n",
       "      <td>B5 LM</td>\n",
       "      <td>SHRIMPLIN</td>\n",
       "      <td>2944.0</td>\n",
       "      <td>234.8</td>\n",
       "      <td>0.515</td>\n",
       "      <td>4.7</td>\n",
       "      <td>11.41</td>\n",
       "      <td>4.8</td>\n",
       "      <td>2</td>\n",
       "      <td>0.4</td>\n",
       "    </tr>\n",
       "  </tbody>\n",
       "</table>\n",
       "</div>"
      ],
      "text/plain": [
       "     Facies Formation  Well Name   Depth     GR  ILD_log10  DeltaPHI  PHIND  \\\n",
       "301       8     B5 LM  SHRIMPLIN  2944.0  234.8      0.515       4.7  11.41   \n",
       "302       8     B5 LM  SHRIMPLIN  2944.0  234.8      0.515       4.7  11.41   \n",
       "\n",
       "      PE  NM_M  RELPOS  \n",
       "301  4.8     2     0.4  \n",
       "302  4.8     2     0.4  "
      ]
     },
     "execution_count": 11,
     "metadata": {},
     "output_type": "execute_result"
    }
   ],
   "source": [
    "df[df.duplicated(keep=False)]"
   ]
  },
  {
   "cell_type": "markdown",
   "metadata": {
    "hidden": true
   },
   "source": [
    "While one duplicate row wouldn't affect our model, however, we would like to remove it to avoid the slightest possibility of bias."
   ]
  },
  {
   "cell_type": "code",
   "execution_count": 12,
   "metadata": {
    "hidden": true
   },
   "outputs": [],
   "source": [
    "#Removing the duplicate entry\n",
    "df.drop_duplicates(inplace = True)"
   ]
  },
  {
   "cell_type": "code",
   "execution_count": 17,
   "metadata": {
    "hidden": true
   },
   "outputs": [
    {
     "data": {
      "text/html": [
       "<div>\n",
       "<style scoped>\n",
       "    .dataframe tbody tr th:only-of-type {\n",
       "        vertical-align: middle;\n",
       "    }\n",
       "\n",
       "    .dataframe tbody tr th {\n",
       "        vertical-align: top;\n",
       "    }\n",
       "\n",
       "    .dataframe thead th {\n",
       "        text-align: right;\n",
       "    }\n",
       "</style>\n",
       "<table border=\"1\" class=\"dataframe\">\n",
       "  <thead>\n",
       "    <tr style=\"text-align: right;\">\n",
       "      <th></th>\n",
       "      <th>Facies</th>\n",
       "      <th>Formation</th>\n",
       "      <th>Well Name</th>\n",
       "      <th>Depth</th>\n",
       "      <th>GR</th>\n",
       "      <th>ILD_log10</th>\n",
       "      <th>DeltaPHI</th>\n",
       "      <th>PHIND</th>\n",
       "      <th>PE</th>\n",
       "      <th>NM_M</th>\n",
       "      <th>RELPOS</th>\n",
       "    </tr>\n",
       "  </thead>\n",
       "  <tbody>\n",
       "    <tr>\n",
       "      <td>301</td>\n",
       "      <td>8</td>\n",
       "      <td>B5 LM</td>\n",
       "      <td>SHRIMPLIN</td>\n",
       "      <td>2944.0</td>\n",
       "      <td>234.80</td>\n",
       "      <td>0.515</td>\n",
       "      <td>4.7</td>\n",
       "      <td>11.410</td>\n",
       "      <td>4.8</td>\n",
       "      <td>2</td>\n",
       "      <td>0.40</td>\n",
       "    </tr>\n",
       "    <tr>\n",
       "      <td>303</td>\n",
       "      <td>8</td>\n",
       "      <td>B5 LM</td>\n",
       "      <td>SHRIMPLIN</td>\n",
       "      <td>2944.5</td>\n",
       "      <td>273.48</td>\n",
       "      <td>0.538</td>\n",
       "      <td>5.3</td>\n",
       "      <td>10.045</td>\n",
       "      <td>5.1</td>\n",
       "      <td>2</td>\n",
       "      <td>0.35</td>\n",
       "    </tr>\n",
       "  </tbody>\n",
       "</table>\n",
       "</div>"
      ],
      "text/plain": [
       "     Facies Formation  Well Name   Depth      GR  ILD_log10  DeltaPHI   PHIND  \\\n",
       "301       8     B5 LM  SHRIMPLIN  2944.0  234.80      0.515       4.7  11.410   \n",
       "303       8     B5 LM  SHRIMPLIN  2944.5  273.48      0.538       5.3  10.045   \n",
       "\n",
       "      PE  NM_M  RELPOS  \n",
       "301  4.8     2    0.40  \n",
       "303  5.1     2    0.35  "
      ]
     },
     "execution_count": 17,
     "metadata": {},
     "output_type": "execute_result"
    }
   ],
   "source": [
    "#Check\n",
    "df.loc[df.index[301:303]]"
   ]
  },
  {
   "cell_type": "markdown",
   "metadata": {
    "heading_collapsed": true
   },
   "source": [
    "### Evaluating Categorical and Numerical Features"
   ]
  },
  {
   "cell_type": "code",
   "execution_count": 7,
   "metadata": {
    "hidden": true,
    "scrolled": true
   },
   "outputs": [
    {
     "data": {
      "text/html": [
       "<div>\n",
       "<style scoped>\n",
       "    .dataframe tbody tr th:only-of-type {\n",
       "        vertical-align: middle;\n",
       "    }\n",
       "\n",
       "    .dataframe tbody tr th {\n",
       "        vertical-align: top;\n",
       "    }\n",
       "\n",
       "    .dataframe thead th {\n",
       "        text-align: right;\n",
       "    }\n",
       "</style>\n",
       "<table border=\"1\" class=\"dataframe\">\n",
       "  <thead>\n",
       "    <tr style=\"text-align: right;\">\n",
       "      <th></th>\n",
       "      <th>Facies</th>\n",
       "      <th>Depth</th>\n",
       "      <th>GR</th>\n",
       "      <th>ILD_log10</th>\n",
       "      <th>DeltaPHI</th>\n",
       "      <th>PHIND</th>\n",
       "      <th>PE</th>\n",
       "      <th>NM_M</th>\n",
       "      <th>RELPOS</th>\n",
       "    </tr>\n",
       "  </thead>\n",
       "  <tbody>\n",
       "    <tr>\n",
       "      <td>count</td>\n",
       "      <td>3232.000000</td>\n",
       "      <td>3232.000000</td>\n",
       "      <td>3232.000000</td>\n",
       "      <td>3232.000000</td>\n",
       "      <td>3232.000000</td>\n",
       "      <td>3232.000000</td>\n",
       "      <td>3232.000000</td>\n",
       "      <td>3232.000000</td>\n",
       "      <td>3232.000000</td>\n",
       "    </tr>\n",
       "    <tr>\n",
       "      <td>mean</td>\n",
       "      <td>4.422030</td>\n",
       "      <td>2875.824567</td>\n",
       "      <td>66.135769</td>\n",
       "      <td>0.642719</td>\n",
       "      <td>3.559642</td>\n",
       "      <td>13.483213</td>\n",
       "      <td>3.725014</td>\n",
       "      <td>1.498453</td>\n",
       "      <td>0.520287</td>\n",
       "    </tr>\n",
       "    <tr>\n",
       "      <td>std</td>\n",
       "      <td>2.504243</td>\n",
       "      <td>131.006274</td>\n",
       "      <td>30.854826</td>\n",
       "      <td>0.241845</td>\n",
       "      <td>5.228948</td>\n",
       "      <td>7.698980</td>\n",
       "      <td>0.896152</td>\n",
       "      <td>0.500075</td>\n",
       "      <td>0.286792</td>\n",
       "    </tr>\n",
       "    <tr>\n",
       "      <td>min</td>\n",
       "      <td>1.000000</td>\n",
       "      <td>2573.500000</td>\n",
       "      <td>13.250000</td>\n",
       "      <td>-0.025949</td>\n",
       "      <td>-21.832000</td>\n",
       "      <td>0.550000</td>\n",
       "      <td>0.200000</td>\n",
       "      <td>1.000000</td>\n",
       "      <td>0.010000</td>\n",
       "    </tr>\n",
       "    <tr>\n",
       "      <td>25%</td>\n",
       "      <td>2.000000</td>\n",
       "      <td>2791.000000</td>\n",
       "      <td>46.918750</td>\n",
       "      <td>0.492750</td>\n",
       "      <td>1.163750</td>\n",
       "      <td>8.346750</td>\n",
       "      <td>3.100000</td>\n",
       "      <td>1.000000</td>\n",
       "      <td>0.273000</td>\n",
       "    </tr>\n",
       "    <tr>\n",
       "      <td>50%</td>\n",
       "      <td>4.000000</td>\n",
       "      <td>2893.500000</td>\n",
       "      <td>65.721500</td>\n",
       "      <td>0.624437</td>\n",
       "      <td>3.500000</td>\n",
       "      <td>12.150000</td>\n",
       "      <td>3.551500</td>\n",
       "      <td>1.000000</td>\n",
       "      <td>0.526000</td>\n",
       "    </tr>\n",
       "    <tr>\n",
       "      <td>75%</td>\n",
       "      <td>6.000000</td>\n",
       "      <td>2980.000000</td>\n",
       "      <td>79.626250</td>\n",
       "      <td>0.812735</td>\n",
       "      <td>6.432500</td>\n",
       "      <td>16.453750</td>\n",
       "      <td>4.300000</td>\n",
       "      <td>2.000000</td>\n",
       "      <td>0.767250</td>\n",
       "    </tr>\n",
       "    <tr>\n",
       "      <td>max</td>\n",
       "      <td>9.000000</td>\n",
       "      <td>3122.500000</td>\n",
       "      <td>361.150000</td>\n",
       "      <td>1.480000</td>\n",
       "      <td>18.600000</td>\n",
       "      <td>84.400000</td>\n",
       "      <td>8.094000</td>\n",
       "      <td>2.000000</td>\n",
       "      <td>1.000000</td>\n",
       "    </tr>\n",
       "  </tbody>\n",
       "</table>\n",
       "</div>"
      ],
      "text/plain": [
       "            Facies        Depth           GR    ILD_log10     DeltaPHI  \\\n",
       "count  3232.000000  3232.000000  3232.000000  3232.000000  3232.000000   \n",
       "mean      4.422030  2875.824567    66.135769     0.642719     3.559642   \n",
       "std       2.504243   131.006274    30.854826     0.241845     5.228948   \n",
       "min       1.000000  2573.500000    13.250000    -0.025949   -21.832000   \n",
       "25%       2.000000  2791.000000    46.918750     0.492750     1.163750   \n",
       "50%       4.000000  2893.500000    65.721500     0.624437     3.500000   \n",
       "75%       6.000000  2980.000000    79.626250     0.812735     6.432500   \n",
       "max       9.000000  3122.500000   361.150000     1.480000    18.600000   \n",
       "\n",
       "             PHIND           PE         NM_M       RELPOS  \n",
       "count  3232.000000  3232.000000  3232.000000  3232.000000  \n",
       "mean     13.483213     3.725014     1.498453     0.520287  \n",
       "std       7.698980     0.896152     0.500075     0.286792  \n",
       "min       0.550000     0.200000     1.000000     0.010000  \n",
       "25%       8.346750     3.100000     1.000000     0.273000  \n",
       "50%      12.150000     3.551500     1.000000     0.526000  \n",
       "75%      16.453750     4.300000     2.000000     0.767250  \n",
       "max      84.400000     8.094000     2.000000     1.000000  "
      ]
     },
     "execution_count": 7,
     "metadata": {},
     "output_type": "execute_result"
    }
   ],
   "source": [
    "df.describe()"
   ]
  },
  {
   "cell_type": "code",
   "execution_count": 24,
   "metadata": {
    "hidden": true
   },
   "outputs": [
    {
     "data": {
      "text/plain": [
       "True"
      ]
     },
     "execution_count": 24,
     "metadata": {},
     "output_type": "execute_result"
    }
   ],
   "source": [
    "#trials for building a function\n",
    "df.Depth.dtype == 'int64' or df.Depth.dtype == 'float64'"
   ]
  },
  {
   "cell_type": "code",
   "execution_count": 33,
   "metadata": {
    "hidden": true
   },
   "outputs": [],
   "source": [
    "def column_type_exploration(df, column):\n",
    "    \n",
    "    '''For a given column in the given dataframe, displays an output of number of unique values and\n",
    "    statistical summary for number type\n",
    "    -----------------------------------------------\n",
    "    Input:\n",
    "    df (DataFrame): DataFrame for the column to evaluate\n",
    "    column (str): column name\n",
    "    -----------------------------------------------\n",
    "    Output:\n",
    "    statistical summary of the numerical column\n",
    "    unique value counts'''\n",
    "    \n",
    "    if df[column].dtype=='int64' or df[column].dtype=='float64':\n",
    "        display(df[column].describe())\n",
    "    \n",
    "    print('\\n')\n",
    "    print(f'Number of Unique Values: {len(df[column].unique())}')\n",
    "    print('\\n')\n",
    "    print(f'Example Unique Values: {df[column].unique()[:5]}')\n",
    "    "
   ]
  },
  {
   "cell_type": "code",
   "execution_count": 34,
   "metadata": {
    "hidden": true
   },
   "outputs": [
    {
     "data": {
      "text/plain": [
       "count    3231.000000\n",
       "mean     2875.803466\n",
       "std       131.021059\n",
       "min      2573.500000\n",
       "25%      2791.000000\n",
       "50%      2893.500000\n",
       "75%      2980.000000\n",
       "max      3122.500000\n",
       "Name: Depth, dtype: float64"
      ]
     },
     "metadata": {},
     "output_type": "display_data"
    },
    {
     "name": "stdout",
     "output_type": "stream",
     "text": [
      "\n",
      "\n",
      "Number of Unique Values: 1099\n",
      "\n",
      "\n",
      "Example Unique Values: [2793.  2793.5 2794.  2794.5 2795. ]\n"
     ]
    }
   ],
   "source": [
    "#Test the function\n",
    "column_type_exploration(df,'Depth')"
   ]
  },
  {
   "cell_type": "code",
   "execution_count": 41,
   "metadata": {
    "hidden": true,
    "scrolled": true
   },
   "outputs": [
    {
     "name": "stdout",
     "output_type": "stream",
     "text": [
      "1. FACIES:\n"
     ]
    },
    {
     "data": {
      "text/plain": [
       "count    3231.000000\n",
       "mean        4.420922\n",
       "std         2.503839\n",
       "min         1.000000\n",
       "25%         2.000000\n",
       "50%         4.000000\n",
       "75%         6.000000\n",
       "max         9.000000\n",
       "Name: Facies, dtype: float64"
      ]
     },
     "metadata": {},
     "output_type": "display_data"
    },
    {
     "name": "stdout",
     "output_type": "stream",
     "text": [
      "\n",
      "\n",
      "Number of Unique Values: 9\n",
      "\n",
      "\n",
      "Example Unique Values: [3 2 8 6 7]\n",
      "\n",
      "\n",
      "--------------------------------------------------------------------------------\n",
      "\n",
      "\n",
      "2. FORMATION:\n",
      "\n",
      "\n",
      "Number of Unique Values: 14\n",
      "\n",
      "\n",
      "Example Unique Values: ['A1 SH' 'A1 LM' 'B1 SH' 'B1 LM' 'B2 SH']\n",
      "\n",
      "\n",
      "--------------------------------------------------------------------------------\n",
      "\n",
      "\n",
      "3. WELL NAME:\n",
      "\n",
      "\n",
      "Number of Unique Values: 8\n",
      "\n",
      "\n",
      "Example Unique Values: ['SHRIMPLIN' 'SHANKLE' 'LUKE G U' 'CROSS H CATTLE' 'NOLAN']\n",
      "\n",
      "\n",
      "--------------------------------------------------------------------------------\n",
      "\n",
      "\n",
      "4. DEPTH:\n"
     ]
    },
    {
     "data": {
      "text/plain": [
       "count    3231.000000\n",
       "mean     2875.803466\n",
       "std       131.021059\n",
       "min      2573.500000\n",
       "25%      2791.000000\n",
       "50%      2893.500000\n",
       "75%      2980.000000\n",
       "max      3122.500000\n",
       "Name: Depth, dtype: float64"
      ]
     },
     "metadata": {},
     "output_type": "display_data"
    },
    {
     "name": "stdout",
     "output_type": "stream",
     "text": [
      "\n",
      "\n",
      "Number of Unique Values: 1099\n",
      "\n",
      "\n",
      "Example Unique Values: [2793.  2793.5 2794.  2794.5 2795. ]\n",
      "\n",
      "\n",
      "--------------------------------------------------------------------------------\n",
      "\n",
      "\n",
      "5. GR:\n"
     ]
    },
    {
     "data": {
      "text/plain": [
       "count    3231.000000\n",
       "mean       66.083567\n",
       "std        30.716527\n",
       "min        13.250000\n",
       "25%        46.914500\n",
       "50%        65.700000\n",
       "75%        79.625000\n",
       "max       361.150000\n",
       "Name: GR, dtype: float64"
      ]
     },
     "metadata": {},
     "output_type": "display_data"
    },
    {
     "name": "stdout",
     "output_type": "stream",
     "text": [
      "\n",
      "\n",
      "Number of Unique Values: 2776\n",
      "\n",
      "\n",
      "Example Unique Values: [77.45 78.26 79.05 86.1  74.58]\n",
      "\n",
      "\n",
      "--------------------------------------------------------------------------------\n",
      "\n",
      "\n",
      "6. ILD_LOG10:\n"
     ]
    },
    {
     "data": {
      "text/plain": [
       "count    3231.000000\n",
       "mean        0.642759\n",
       "std         0.241872\n",
       "min        -0.025949\n",
       "25%         0.492500\n",
       "50%         0.624591\n",
       "75%         0.812823\n",
       "max         1.480000\n",
       "Name: ILD_log10, dtype: float64"
      ]
     },
     "metadata": {},
     "output_type": "display_data"
    },
    {
     "name": "stdout",
     "output_type": "stream",
     "text": [
      "\n",
      "\n",
      "Number of Unique Values: 1276\n",
      "\n",
      "\n",
      "Example Unique Values: [0.664 0.661 0.658 0.655 0.647]\n",
      "\n",
      "\n",
      "--------------------------------------------------------------------------------\n",
      "\n",
      "\n",
      "7. DELTAPHI:\n"
     ]
    },
    {
     "data": {
      "text/plain": [
       "count    3231.000000\n",
       "mean        3.559289\n",
       "std         5.229719\n",
       "min       -21.832000\n",
       "25%         1.162500\n",
       "50%         3.500000\n",
       "75%         6.436000\n",
       "max        18.600000\n",
       "Name: DeltaPHI, dtype: float64"
      ]
     },
     "metadata": {},
     "output_type": "display_data"
    },
    {
     "name": "stdout",
     "output_type": "stream",
     "text": [
      "\n",
      "\n",
      "Number of Unique Values: 1055\n",
      "\n",
      "\n",
      "Example Unique Values: [ 9.9 14.2 14.8 13.9 13.5]\n",
      "\n",
      "\n",
      "--------------------------------------------------------------------------------\n",
      "\n",
      "\n",
      "8. PHIND:\n"
     ]
    },
    {
     "data": {
      "text/plain": [
       "count    3231.000000\n",
       "mean       13.483855\n",
       "std         7.700085\n",
       "min         0.550000\n",
       "25%         8.343500\n",
       "50%        12.150000\n",
       "75%        16.457500\n",
       "max        84.400000\n",
       "Name: PHIND, dtype: float64"
      ]
     },
     "metadata": {},
     "output_type": "display_data"
    },
    {
     "name": "stdout",
     "output_type": "stream",
     "text": [
      "\n",
      "\n",
      "Number of Unique Values: 1949\n",
      "\n",
      "\n",
      "Example Unique Values: [11.915 12.565 13.05  13.115 13.3  ]\n",
      "\n",
      "\n",
      "--------------------------------------------------------------------------------\n",
      "\n",
      "\n",
      "9. PE:\n"
     ]
    },
    {
     "data": {
      "text/plain": [
       "count    3231.000000\n",
       "mean        3.724681\n",
       "std         0.896091\n",
       "min         0.200000\n",
       "25%         3.100000\n",
       "50%         3.551000\n",
       "75%         4.300000\n",
       "max         8.094000\n",
       "Name: PE, dtype: float64"
      ]
     },
     "metadata": {},
     "output_type": "display_data"
    },
    {
     "name": "stdout",
     "output_type": "stream",
     "text": [
      "\n",
      "\n",
      "Number of Unique Values: 995\n",
      "\n",
      "\n",
      "Example Unique Values: [4.6 4.1 3.6 3.5 3.4]\n",
      "\n",
      "\n",
      "--------------------------------------------------------------------------------\n",
      "\n",
      "\n",
      "10. NM_M:\n"
     ]
    },
    {
     "data": {
      "text/plain": [
       "count    3231.000000\n",
       "mean        1.498298\n",
       "std         0.500074\n",
       "min         1.000000\n",
       "25%         1.000000\n",
       "50%         1.000000\n",
       "75%         2.000000\n",
       "max         2.000000\n",
       "Name: NM_M, dtype: float64"
      ]
     },
     "metadata": {},
     "output_type": "display_data"
    },
    {
     "name": "stdout",
     "output_type": "stream",
     "text": [
      "\n",
      "\n",
      "Number of Unique Values: 2\n",
      "\n",
      "\n",
      "Example Unique Values: [1 2]\n",
      "\n",
      "\n",
      "--------------------------------------------------------------------------------\n",
      "\n",
      "\n",
      "11. RELPOS:\n"
     ]
    },
    {
     "data": {
      "text/plain": [
       "count    3231.000000\n",
       "mean        0.520325\n",
       "std         0.286829\n",
       "min         0.010000\n",
       "25%         0.273000\n",
       "50%         0.526000\n",
       "75%         0.767500\n",
       "max         1.000000\n",
       "Name: RELPOS, dtype: float64"
      ]
     },
     "metadata": {},
     "output_type": "display_data"
    },
    {
     "name": "stdout",
     "output_type": "stream",
     "text": [
      "\n",
      "\n",
      "Number of Unique Values: 825\n",
      "\n",
      "\n",
      "Example Unique Values: [1.    0.979 0.957 0.936 0.915]\n",
      "\n",
      "\n",
      "--------------------------------------------------------------------------------\n",
      "\n",
      "\n"
     ]
    }
   ],
   "source": [
    "#exploring all columns\n",
    "index = 1\n",
    "for column in df.columns:\n",
    "    print(f'{index}. {column.upper()}:')\n",
    "#     print('\\n')\n",
    "    column_type_exploration(df,column)\n",
    "    print('\\n')\n",
    "    print('--'*40)\n",
    "    print('\\n')\n",
    "    index+=1"
   ]
  },
  {
   "cell_type": "code",
   "execution_count": 42,
   "metadata": {
    "hidden": true
   },
   "outputs": [
    {
     "data": {
      "text/plain": [
       "Index(['Facies', 'Formation', 'Well Name', 'Depth', 'GR', 'ILD_log10',\n",
       "       'DeltaPHI', 'PHIND', 'PE', 'NM_M', 'RELPOS'],\n",
       "      dtype='object')"
      ]
     },
     "execution_count": 42,
     "metadata": {},
     "output_type": "execute_result"
    }
   ],
   "source": [
    "df.columns"
   ]
  },
  {
   "cell_type": "markdown",
   "metadata": {
    "hidden": true
   },
   "source": [
    "With Facies being our target variable, we divide the rest of the columns into categorical or numerical type"
   ]
  },
  {
   "cell_type": "code",
   "execution_count": 43,
   "metadata": {
    "hidden": true
   },
   "outputs": [],
   "source": [
    "categorical = ['Formation','Well Name','NM_M']\n",
    "numerical = ['Depth','GR','ILD_log10','DeltaPHI','PHIND','PE','RELPOS']"
   ]
  },
  {
   "cell_type": "markdown",
   "metadata": {
    "heading_collapsed": true,
    "hidden": true
   },
   "source": [
    "#### Exploring Categorical Values"
   ]
  },
  {
   "cell_type": "code",
   "execution_count": 55,
   "metadata": {
    "hidden": true
   },
   "outputs": [
    {
     "name": "stdout",
     "output_type": "stream",
     "text": [
      "1. FORMATION:\n"
     ]
    },
    {
     "data": {
      "text/plain": [
       "array(['A1 SH', 'A1 LM', 'B1 SH', 'B1 LM', 'B2 SH', 'B2 LM', 'B3 SH',\n",
       "       'B3 LM', 'B4 SH', 'B4 LM', 'B5 SH', 'B5 LM', 'C SH', 'C LM'],\n",
       "      dtype=object)"
      ]
     },
     "metadata": {},
     "output_type": "display_data"
    },
    {
     "name": "stdout",
     "output_type": "stream",
     "text": [
      "--------------------------------------------------------------------------------\n",
      "2. WELL NAME:\n"
     ]
    },
    {
     "data": {
      "text/plain": [
       "array(['SHRIMPLIN', 'SHANKLE', 'LUKE G U', 'CROSS H CATTLE', 'NOLAN',\n",
       "       'Recruit F9', 'NEWBY', 'CHURCHMAN BIBLE'], dtype=object)"
      ]
     },
     "metadata": {},
     "output_type": "display_data"
    },
    {
     "name": "stdout",
     "output_type": "stream",
     "text": [
      "--------------------------------------------------------------------------------\n",
      "3. NM_M:\n"
     ]
    },
    {
     "data": {
      "text/plain": [
       "array([1, 2], dtype=int64)"
      ]
     },
     "metadata": {},
     "output_type": "display_data"
    },
    {
     "name": "stdout",
     "output_type": "stream",
     "text": [
      "--------------------------------------------------------------------------------\n"
     ]
    }
   ],
   "source": [
    "index = 1\n",
    "for column in categorical:\n",
    "    print(f'{index}. {column.upper()}:')\n",
    "    if df[column].dtype == 'object':\n",
    "        display(df[column].unique())\n",
    "    else:\n",
    "        display(df[column].sort_values().unique())\n",
    "    print('--'*40)\n",
    "    index+=1"
   ]
  },
  {
   "cell_type": "markdown",
   "metadata": {
    "heading_collapsed": true
   },
   "source": [
    "### Exploring Target Variable"
   ]
  },
  {
   "cell_type": "code",
   "execution_count": 57,
   "metadata": {
    "hidden": true
   },
   "outputs": [
    {
     "data": {
      "text/plain": [
       "array([1, 2, 3, 4, 5, 6, 7, 8, 9], dtype=int64)"
      ]
     },
     "execution_count": 57,
     "metadata": {},
     "output_type": "execute_result"
    }
   ],
   "source": [
    "df.Facies.sort_values().unique()"
   ]
  },
  {
   "cell_type": "markdown",
   "metadata": {},
   "source": [
    "### Visual Analysis"
   ]
  },
  {
   "cell_type": "code",
   "execution_count": null,
   "metadata": {},
   "outputs": [],
   "source": []
  }
 ],
 "metadata": {
  "kernelspec": {
   "display_name": "Python 3",
   "language": "python",
   "name": "python3"
  },
  "language_info": {
   "codemirror_mode": {
    "name": "ipython",
    "version": 3
   },
   "file_extension": ".py",
   "mimetype": "text/x-python",
   "name": "python",
   "nbconvert_exporter": "python",
   "pygments_lexer": "ipython3",
   "version": "3.6.9"
  },
  "toc": {
   "base_numbering": 1,
   "nav_menu": {},
   "number_sections": true,
   "sideBar": true,
   "skip_h1_title": false,
   "title_cell": "Table of Contents",
   "title_sidebar": "Contents",
   "toc_cell": false,
   "toc_position": {},
   "toc_section_display": true,
   "toc_window_display": false
  }
 },
 "nbformat": 4,
 "nbformat_minor": 2
}
